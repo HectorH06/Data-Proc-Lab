{
 "cells": [
  {
   "cell_type": "code",
   "execution_count": 13,
   "metadata": {},
   "outputs": [],
   "source": [
    "import numpy as np\n",
    "import pandas as pd"
   ]
  },
  {
   "cell_type": "code",
   "execution_count": 14,
   "metadata": {},
   "outputs": [],
   "source": [
    "# generar el dict\n",
    "data = {\n",
    "    f\"col{i}\": np.random.normal(loc=i, scale=i * 10, size=10) for i in range(10)\n",
    "}\n",
    "\n",
    "data[\"usuarios\"] = ['a', 'b', 'b', 'c', 'd', 'd', 'e', 'f', 'f', 'f']\n",
    "\n",
    "df = pd.DataFrame(data)"
   ]
  },
  {
   "cell_type": "code",
   "execution_count": 15,
   "metadata": {},
   "outputs": [
    {
     "name": "stderr",
     "output_type": "stream",
     "text": [
      "C:\\Users\\hecto\\AppData\\Local\\Temp\\ipykernel_13744\\3994561427.py:7: DeprecationWarning: DataFrameGroupBy.apply operated on the grouping columns. This behavior is deprecated, and in a future version of pandas the grouping columns will be excluded from the operation. Either pass `include_groups=False` to exclude the groupings or explicitly select the grouping columns after groupby to silence this warning.\n",
      "  mediana_agrupada = df.groupby(\"usuarios\").apply(lambda g: calcular_mediana_agrupada(g.drop(columns=[\"usuarios\"])))\n"
     ]
    }
   ],
   "source": [
    "val4y3 = df.loc[3, \"col4\"]\n",
    "\n",
    "# calcular la mediana agrupada por usuario con lag de 2 periodos y expansión de 1 periodo\n",
    "def calcular_mediana_agrupada(grupo):\n",
    "    return grupo.expanding(1).median().shift(2)\n",
    "\n",
    "mediana_agrupada = df.groupby(\"usuarios\").apply(lambda g: calcular_mediana_agrupada(g.drop(columns=[\"usuarios\"])))\n",
    "\n",
    "fNotNull = \"El usuario 'f' es el único que tiene al menos 3 registros consecutivos en el DataFrame, lo que permite que la expansión tenga suficientes valores previos para calcular una mediana después de aplicar el lag de 2 periodos.\"\n"
   ]
  },
  {
   "cell_type": "code",
   "execution_count": 16,
   "metadata": {},
   "outputs": [
    {
     "name": "stdout",
     "output_type": "stream",
     "text": [
      "Valor en índice 3 de col4: 2.03068080997875\n",
      "\n",
      "Mediana agrupada por usuario con lag y expansión:\n",
      "            col0       col1      col2       col3       col4       col5  \\\n",
      "usuarios                                                                 \n",
      "a        0   NaN        NaN       NaN        NaN        NaN        NaN   \n",
      "b        1   NaN        NaN       NaN        NaN        NaN        NaN   \n",
      "         2   NaN        NaN       NaN        NaN        NaN        NaN   \n",
      "c        3   NaN        NaN       NaN        NaN        NaN        NaN   \n",
      "d        4   NaN        NaN       NaN        NaN        NaN        NaN   \n",
      "         5   NaN        NaN       NaN        NaN        NaN        NaN   \n",
      "e        6   NaN        NaN       NaN        NaN        NaN        NaN   \n",
      "f        7   NaN        NaN       NaN        NaN        NaN        NaN   \n",
      "         8   NaN        NaN       NaN        NaN        NaN        NaN   \n",
      "         9   0.0 -11.682228 -1.185045 -19.605507  55.423903  111.63635   \n",
      "\n",
      "                 col6       col7        col8        col9  \n",
      "usuarios                                                  \n",
      "a        0        NaN        NaN         NaN         NaN  \n",
      "b        1        NaN        NaN         NaN         NaN  \n",
      "         2        NaN        NaN         NaN         NaN  \n",
      "c        3        NaN        NaN         NaN         NaN  \n",
      "d        4        NaN        NaN         NaN         NaN  \n",
      "         5        NaN        NaN         NaN         NaN  \n",
      "e        6        NaN        NaN         NaN         NaN  \n",
      "f        7        NaN        NaN         NaN         NaN  \n",
      "         8        NaN        NaN         NaN         NaN  \n",
      "         9  73.103854  13.958152  110.949337 -167.737054  \n",
      "\n",
      "Razón por la que solo el usuario 'f' tiene valores no nulos: El usuario 'f' es el único que tiene al menos 3 registros consecutivos en el DataFrame, lo que permite que la expansión tenga suficientes valores previos para calcular una mediana después de aplicar el lag de 2 periodos.\n"
     ]
    }
   ],
   "source": [
    "# res\n",
    "print(\"Valor en índice 3 de col4:\", val4y3)\n",
    "print(\"\\nMediana agrupada por usuario con lag y expansión:\")\n",
    "print(mediana_agrupada)\n",
    "print(\"\\nRazón por la que solo el usuario 'f' tiene valores no nulos:\", fNotNull)"
   ]
  }
 ],
 "metadata": {
  "kernelspec": {
   "display_name": "scraper",
   "language": "python",
   "name": "python3"
  },
  "language_info": {
   "codemirror_mode": {
    "name": "ipython",
    "version": 3
   },
   "file_extension": ".py",
   "mimetype": "text/x-python",
   "name": "python",
   "nbconvert_exporter": "python",
   "pygments_lexer": "ipython3",
   "version": "3.12.5"
  }
 },
 "nbformat": 4,
 "nbformat_minor": 2
}
