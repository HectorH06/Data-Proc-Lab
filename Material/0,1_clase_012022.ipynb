{
 "cells": [
  {
   "cell_type": "markdown",
   "id": "d448039e",
   "metadata": {},
   "source": [
    "# Módulo 1: Lectura de archivos\n",
    "\n",
    "## Objetivo\n",
    "El alumno podrá extraer de datos de archivos de tipo:\n",
    "* Texto plano.\n",
    "* CSV.\n",
    "* JSON.\n",
    "\n",
    "\n",
    "## Actividad 1 \n",
    "* Descargar de Canvas el archivo `Códigos_para_ejercicio_0,1`. \n",
    "* Juntarse en grupos (a definirse en el salón). Cada grupo tendrá asignado un tipo de archivo dentro de las siguientes opciones:\n",
    "    * Texto plano (.txt)\n",
    "    * CSV (.csv).\n",
    "    * JSON (.json).\n",
    "    \n",
    "* Ya acomodados, cada equipo buscará el comando que crea adecuado dentro del cuadro del archivo `Códigos_para_ejercicio_0,1`. El equipo deberá leer exitosamente el archivo que le corresponda.\n",
    "* Dentro del archivo, habrá muchos números, pero el equipo tiene que buscar un frase y guardarla. Para esto tendrán un tiempo límite de 10 minutos. \n",
    "\n",
    "* Al final, todos los equipos tienen que juntar sus frases y hacer una única frase. Si en un total de 12 minutos (los 10 anteriores más 2 extra) logran juntar la frase correcta, **el grupo no tendrá tarea**, de otra manera el grupo tendrá tarea (actividad 2).\n",
    "\n",
    "## Actividad 2: Tarea (para los que aplique)\n",
    "\n",
    "* En Canvas encontrarás una serie de archivos .csv con los nombres csv_file_1.csv, csv_file_2.csv y así sucesivamente que tienes que descargar.\n",
    "* Usando el método `pd.concat` de la paquetería pandas vas a concatenar todos los archivos.\n",
    "    * El método se usa así: nuevo_df = `pd.concat([df1, df2, df3, ...], axis=0)`. Esto te juntará todos los dataframes en uno solo. Más información aquí: https://pandas.pydata.org/pandas-docs/stable/reference/api/pandas.concat.html\n",
    "*  Ya que tengas tu DataFrame, encárgate de escribir los resultados a las siguientes preguntas:\n",
    "    * ¿Cuántas filas tiene el archivo al final? \n",
    "    * ¿Cuál es el promedio de la columna `Números`?"
   ]
  },
  {
   "cell_type": "code",
   "execution_count": 1,
   "id": "8a790724",
   "metadata": {},
   "outputs": [],
   "source": [
    "# Auxiliar para definir directorios\n",
    "import os\n",
    "import pandas as pd\n",
    "# Para importar jsons\n",
    "import json\n",
    "# Para importar csvs\n",
    "import csv"
   ]
  },
  {
   "cell_type": "markdown",
   "id": "58d1b924",
   "metadata": {},
   "source": [
    "## Texto\n",
    "### Formas de accesar a archivos\n",
    "https://www.geeksforgeeks.org/reading-writing-text-files-python/\n",
    "\n",
    "La forma básica de abrir archivos es utilizando `open(archivo, modo_de_acceso)`\n",
    "\n",
    "Toda vez que utilizamos `open` lo acompañamos de un modo de acceso, el cual marca la pauta de cómo será usado el `file` una vez cargado en memoria. \n",
    "\n",
    "* Read only\n",
    "    * Forma de acceso: `r`\n",
    "* Read and write\n",
    "    * Forma de acceso: `r+`\n",
    "* Write only \n",
    "    * Forma de acceso: `w`\n",
    "* Write and read\n",
    "    * Forma de acceso: `w+`\n",
    "* Append only\n",
    "    * Añadir información (al final de lo que exista). \n",
    "    * Forma de acceso: `a`\n",
    "* Append and read\n",
    "    * Añadir información (al final de lo que exista) además de leer. \n",
    "    * Forma de acceso: `a+`"
   ]
  },
  {
   "cell_type": "code",
   "execution_count": 1,
   "id": "a91e6886",
   "metadata": {},
   "outputs": [],
   "source": [
    "# Establecer nuestro directorio\n",
    "\n",
    "\n",
    "# Juntemos ambas variables para hacer una única ruta\n",
    "\n",
    "\n",
    "# Leyendo el archivo usando \"open\"\n",
    "\n",
    "# El comando read lee todo lo que contenga el archivo \"my file\"\n",
    "# Libera memoria"
   ]
  },
  {
   "cell_type": "markdown",
   "id": "cab98e8e",
   "metadata": {},
   "source": [
    "##### Usando `readline`\n",
    "Lee número específico de bytes de la línea. No lee más de una línea aunque los bytes excedan."
   ]
  },
  {
   "cell_type": "code",
   "execution_count": 2,
   "id": "51a03cc3",
   "metadata": {},
   "outputs": [],
   "source": [
    "\n",
    "# El 5 indica el número de bytes totales a leer\n"
   ]
  },
  {
   "cell_type": "code",
   "execution_count": 3,
   "id": "19738311",
   "metadata": {},
   "outputs": [],
   "source": [
    "# Usar el comando \"w\" para poder escribir\n",
    "# my_file = open(basedir, 'w') OJO: Esto está sobrescribiendo el archivo.\n",
    "# Para leer y además escribir podemos usar el \"r+\"\n",
    "\n",
    "# Voy a usar mejor el \"r+\" aquí abajo para que se entienda mejor el ejemplo \n",
    "\n",
    "\n",
    "\n",
    "\n",
    "# Usaremos el método \"write\" para escribir\n",
    "\n",
    "# Para liberar memoria\n",
    "\n",
    "\n",
    "# Volver a leer el archivo para ver si jaló\n",
    "\n",
    "\n"
   ]
  },
  {
   "cell_type": "markdown",
   "id": "7eb7e817",
   "metadata": {},
   "source": [
    "## Comma Separated Values (CSV)\n",
    "\n",
    "Usaremos de aquí en adelante `with`. `with` simplifica el manejo de recursos volviendo más claro el código. Cuando usamos esta herramienta no necesitamos usar `.close()`. \n",
    "\n",
    "Se usa junto con `open`, simplifica excepciones y cierra automáticamente el file. \n",
    "\n",
    "Lectura de CSV:\n",
    "https://www.geeksforgeeks.org/reading-and-writing-csv-files-in-python/?ref=rp\n",
    "\n",
    "Uso de `with`:\n",
    "https://www.pythonforbeginners.com/files/with-statement-in-python\n",
    "\n",
    "\n",
    "Leyendo con paquetería `csv`.\n",
    "\n"
   ]
  },
  {
   "cell_type": "code",
   "execution_count": 4,
   "id": "0278b7f5",
   "metadata": {},
   "outputs": [],
   "source": [
    "# Establecer el directorio al archivo\n",
    "\n",
    "\n",
    "# Ejecutar el comando de lectura + paquete \"csv\"\n",
    "# \"f\" es el objeto que el código va a leer\n",
    "\n",
    "    \n",
    "    # Leyendo línea por línea\n"
   ]
  },
  {
   "cell_type": "code",
   "execution_count": 5,
   "id": "36dc79cb",
   "metadata": {},
   "outputs": [],
   "source": [
    "# Mandar esto a volar y usemos pandas\n"
   ]
  },
  {
   "cell_type": "code",
   "execution_count": 6,
   "id": "6f19c98f",
   "metadata": {},
   "outputs": [],
   "source": [
    "# Escribir en el csv que acabamos de leer\n",
    "\n",
    "\n",
    "\n",
    "# Guardarlo\n",
    "#df.to_csv(#Ruta)\n",
    "\n",
    "\n",
    "# Volver a leer mi archivo para ver que se haya escrito mi nueva columna\n"
   ]
  },
  {
   "cell_type": "markdown",
   "id": "2d916dab",
   "metadata": {},
   "source": [
    "## JSONs\n",
    "\n",
    "El acrónimo \"JSON\" viene de _Javascript Object Notation_.\n",
    "\n",
    "Es usado para guardar y transferir información. Es una forma muy sencilla de compartir información. \n",
    "\n",
    "Su lectura es muy sencilla y será a su vez planteada como un diccionario. "
   ]
  },
  {
   "cell_type": "code",
   "execution_count": 7,
   "id": "38c0e63d",
   "metadata": {},
   "outputs": [],
   "source": [
    "# Establecer el directorio al archivo\n",
    "\n",
    "\n",
    "# Importar librería \n",
    "\n",
    "\n"
   ]
  },
  {
   "cell_type": "code",
   "execution_count": null,
   "id": "8fb7c74f",
   "metadata": {},
   "outputs": [],
   "source": []
  },
  {
   "cell_type": "code",
   "execution_count": null,
   "id": "36d67048",
   "metadata": {},
   "outputs": [],
   "source": []
  },
  {
   "cell_type": "markdown",
   "id": "83d8bcaa",
   "metadata": {},
   "source": [
    "##### Escribiendo un json\n"
   ]
  },
  {
   "cell_type": "code",
   "execution_count": 20,
   "id": "5a1ccf47",
   "metadata": {},
   "outputs": [],
   "source": []
  },
  {
   "cell_type": "code",
   "execution_count": 23,
   "id": "2df2240a",
   "metadata": {},
   "outputs": [],
   "source": []
  },
  {
   "cell_type": "code",
   "execution_count": 24,
   "id": "b70a3d61",
   "metadata": {},
   "outputs": [],
   "source": [
    "# Leemos de vuelta\n"
   ]
  },
  {
   "cell_type": "code",
   "execution_count": null,
   "id": "6d13118c",
   "metadata": {},
   "outputs": [],
   "source": []
  },
  {
   "cell_type": "code",
   "execution_count": null,
   "id": "c141ea63",
   "metadata": {},
   "outputs": [],
   "source": []
  }
 ],
 "metadata": {
  "kernelspec": {
   "display_name": "Python 3 (ipykernel)",
   "language": "python",
   "name": "python3"
  },
  "language_info": {
   "codemirror_mode": {
    "name": "ipython",
    "version": 3
   },
   "file_extension": ".py",
   "mimetype": "text/x-python",
   "name": "python",
   "nbconvert_exporter": "python",
   "pygments_lexer": "ipython3",
   "version": "3.9.4"
  }
 },
 "nbformat": 4,
 "nbformat_minor": 5
}
